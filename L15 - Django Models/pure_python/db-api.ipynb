{
 "cells": [
  {
   "cell_type": "markdown",
   "id": "de3771ba",
   "metadata": {},
   "source": [
    "<h3>Python DB-API</h3>"
   ]
  },
  {
   "cell_type": "code",
   "execution_count": null,
   "id": "154b48a6",
   "metadata": {},
   "outputs": [],
   "source": [
    "# https://www.postgresqltutorial.com/postgresql-python/connect/\n",
    "\n",
    "PG_HOST = 'localhost'\n",
    "PG_PORT = 5432\n",
    "PG_DATABASE = 'ntu'\n",
    "PG_USER = 'postgres'\n",
    "PG_PASS = '1234'\n",
    "\n",
    "import psycopg2\n",
    "    \n",
    "def connect():\n",
    "    return psycopg2.connect(host=PG_HOST, database=PG_DATABASE, user=PG_USER, password=PG_PASS)"
   ]
  },
  {
   "cell_type": "code",
   "execution_count": 1,
   "id": "604c9b9f",
   "metadata": {},
   "outputs": [],
   "source": [
    "# use this cell instead of the previous one if you want use sqlite instead of postgresql\n",
    "\n",
    "import sqlite3\n",
    "\n",
    "def connect():\n",
    "    return sqlite3.connect('../some.db')"
   ]
  },
  {
   "cell_type": "markdown",
   "id": "1350506d",
   "metadata": {},
   "source": [
    "<h3>SQL</h3>"
   ]
  },
  {
   "cell_type": "code",
   "execution_count": 4,
   "id": "8b5421b1",
   "metadata": {},
   "outputs": [],
   "source": [
    "def execute_sql(conn, query, parameters=None):\n",
    "    conn = connect()\n",
    "    cursor = conn.cursor()\n",
    "    if parameters is None:\n",
    "        cursor.execute(query)\n",
    "    else:\n",
    "        cursor.execute(query, parameters)\n",
    "\n",
    "    if query.lower().lstrip().startswith('select'):\n",
    "        result = cursor.fetchall()\n",
    "    else:\n",
    "        result = None\n",
    "    conn.commit()\n",
    "    return result"
   ]
  },
  {
   "cell_type": "markdown",
   "id": "7af8ce4e",
   "metadata": {},
   "source": [
    "<h3>SELECT & NULL</h3>"
   ]
  },
  {
   "cell_type": "code",
   "execution_count": 5,
   "id": "e08cbbf9",
   "metadata": {},
   "outputs": [
    {
     "name": "stdout",
     "output_type": "stream",
     "text": [
      "[(1,)]\n",
      "[(4,)]\n",
      "[(None,)]\n",
      "[(None,)]\n",
      "[(None,)]\n",
      "[(None,)]\n",
      "[(1,)]\n",
      "[(0,)]\n"
     ]
    }
   ],
   "source": [
    "c = connect();\n",
    "\n",
    "print(execute_sql(c, 'SELECT 1'))\n",
    "print(execute_sql(c, 'SELECT 1+3'))\n",
    "\n",
    "print(execute_sql(c, 'SELECT NULL = 1'))\n",
    "print(execute_sql(c, 'SELECT NULL != 1'))\n",
    "print(execute_sql(c, 'SELECT NULL = NULL'))\n",
    "print(execute_sql(c, 'SELECT NULL != NULL'))\n",
    "\n",
    "print(execute_sql(c, 'SELECT NULL IS NULL'))\n",
    "print(execute_sql(c, 'SELECT NULL IS NOT NULL'))\n",
    "\n",
    "c.close();"
   ]
  },
  {
   "cell_type": "markdown",
   "id": "e917e479",
   "metadata": {},
   "source": [
    "<h3>Database Initialization</h3>"
   ]
  },
  {
   "cell_type": "code",
   "execution_count": 7,
   "id": "c0241cfb",
   "metadata": {},
   "outputs": [],
   "source": [
    "def create_test_data(c):\n",
    "    \n",
    "    execute_sql(c, \"\"\"\n",
    "        CREATE TABLE Bachelor(id INTEGER PRIMARY KEY, name TEXT, course TEXT);\n",
    "    \"\"\")\n",
    "\n",
    "    execute_sql(c, \"\"\"\n",
    "        INSERT INTO Bachelor(id, name, course) VALUES\n",
    "        (1, 'Болванщик', 'СУБД'),\n",
    "        (2, 'Заяц', 'C++'),\n",
    "        (3, 'Соня', 'Алгоритмы');\n",
    "    \"\"\")\n",
    "\n",
    "    execute_sql(c, \"\"\"\n",
    "        CREATE TABLE Master(id INTEGER PRIMARY KEY, name TEXT, course TEXT);\n",
    "    \"\"\")\n",
    "\n",
    "    execute_sql(c, \"\"\"\n",
    "        INSERT INTO Master(id, name, course) VALUES\n",
    "        (10, 'Алиса', 'СУБД'),\n",
    "        (20, 'Алиса', 'C++');\n",
    "    \"\"\")\n",
    "\n",
    "    \n",
    "with connect() as c:\n",
    "    create_test_data(c)"
   ]
  },
  {
   "cell_type": "markdown",
   "id": "8e8f5e98",
   "metadata": {},
   "source": [
    "<h3>SELECT</h3>"
   ]
  },
  {
   "cell_type": "code",
   "execution_count": 8,
   "id": "6956080c",
   "metadata": {},
   "outputs": [
    {
     "name": "stdout",
     "output_type": "stream",
     "text": [
      "[(1, 'Болванщик', 'СУБД'), (2, 'Заяц', 'C++'), (3, 'Соня', 'Алгоритмы')]\n"
     ]
    }
   ],
   "source": [
    "with connect() as c:\n",
    "    r = execute_sql(c, \"SELECT * FROM Bachelor\")\n",
    "\n",
    "print(r)"
   ]
  },
  {
   "cell_type": "code",
   "execution_count": 9,
   "id": "e5f9de5b",
   "metadata": {},
   "outputs": [
    {
     "name": "stdout",
     "output_type": "stream",
     "text": [
      "[(10, 'Алиса', 'СУБД'), (20, 'Алиса', 'C++')]\n"
     ]
    }
   ],
   "source": [
    "with connect() as c:\n",
    "    r = execute_sql(c, \"SELECT * FROM Master\")\n",
    "\n",
    "print(r)"
   ]
  },
  {
   "cell_type": "code",
   "execution_count": 10,
   "id": "74fbe41c",
   "metadata": {},
   "outputs": [
    {
     "name": "stdout",
     "output_type": "stream",
     "text": [
      "[(1, 'Болванщик', 'СУБД', 10, 'Алиса', 'СУБД'), (1, 'Болванщик', 'СУБД', 20, 'Алиса', 'C++'), (2, 'Заяц', 'C++', 10, 'Алиса', 'СУБД'), (2, 'Заяц', 'C++', 20, 'Алиса', 'C++'), (3, 'Соня', 'Алгоритмы', 10, 'Алиса', 'СУБД'), (3, 'Соня', 'Алгоритмы', 20, 'Алиса', 'C++')]\n"
     ]
    }
   ],
   "source": [
    "with connect() as c:\n",
    "    r = execute_sql(c, \"SELECT * FROM Bachelor, Master\")\n",
    "\n",
    "print(r)"
   ]
  },
  {
   "cell_type": "markdown",
   "id": "bede887b",
   "metadata": {},
   "source": [
    "<h3>JOINS</h3>"
   ]
  },
  {
   "cell_type": "code",
   "execution_count": 11,
   "id": "5440cdbb",
   "metadata": {},
   "outputs": [
    {
     "name": "stdout",
     "output_type": "stream",
     "text": [
      "[(1, 'Болванщик', 'СУБД', 10, 'Алиса', 'СУБД'), (2, 'Заяц', 'C++', 20, 'Алиса', 'C++')]\n"
     ]
    }
   ],
   "source": [
    "# INNER JOIN\n",
    "\n",
    "sql_v1 = \"\"\"\n",
    "    SELECT *\n",
    "       FROM Bachelor, Master\n",
    "       WHERE Master.name = 'Алиса'\n",
    "          AND Bachelor.course = Master.course;\n",
    "\"\"\"\n",
    "\n",
    "sql_v2 = \"\"\"\n",
    "    SELECT *\n",
    "       FROM Bachelor\n",
    "          JOIN Master ON Bachelor.course = Master.course\n",
    "       WHERE Master.name = 'Алиса';\n",
    "\"\"\"\n",
    "\n",
    "with connect() as c:\n",
    "    r = execute_sql(c, sql_v2)\n",
    "\n",
    "print(r)"
   ]
  },
  {
   "cell_type": "code",
   "execution_count": 12,
   "id": "8201cc69",
   "metadata": {},
   "outputs": [
    {
     "name": "stdout",
     "output_type": "stream",
     "text": [
      "[(1, 'Болванщик', 'СУБД', 10, 'Алиса', 'СУБД'), (2, 'Заяц', 'C++', 20, 'Алиса', 'C++'), (3, 'Соня', 'Алгоритмы', None, None, None)]\n"
     ]
    }
   ],
   "source": [
    "# LEFT JOIN\n",
    "\n",
    "sql = \"\"\"\n",
    "    SELECT *\n",
    "       FROM Bachelor\n",
    "          LEFT JOIN Master ON Bachelor.course = Master.course;\n",
    "\"\"\"\n",
    "\n",
    "with connect() as c:\n",
    "    r = execute_sql(c, sql)\n",
    "    \n",
    "print(r)"
   ]
  },
  {
   "cell_type": "code",
   "execution_count": 13,
   "id": "965b8a5a",
   "metadata": {},
   "outputs": [
    {
     "name": "stdout",
     "output_type": "stream",
     "text": [
      "[(10, 'Алиса', 'СУБД', 1, 'Болванщик', 'СУБД'), (20, 'Алиса', 'C++', 2, 'Заяц', 'C++'), (None, None, None, 3, 'Соня', 'Алгоритмы')]\n"
     ]
    }
   ],
   "source": [
    "# RIGHT JOIN\n",
    "\n",
    "sql = \"\"\"\n",
    "    SELECT *\n",
    "       FROM Master\n",
    "          RIGHT JOIN Bachelor ON Bachelor.course = Master.course;\n",
    "\"\"\"\n",
    "\n",
    "with connect() as c:\n",
    "    r = execute_sql(c, sql)\n",
    "    \n",
    "print(r)"
   ]
  },
  {
   "cell_type": "code",
   "execution_count": 16,
   "id": "6434836e",
   "metadata": {},
   "outputs": [
    {
     "data": {
      "text/plain": [
       "(list, tuple, int)"
      ]
     },
     "execution_count": 16,
     "metadata": {},
     "output_type": "execute_result"
    }
   ],
   "source": [
    "type(r), type(r[0]), type(r[0][0])"
   ]
  }
 ],
 "metadata": {
  "kernelspec": {
   "display_name": "Python 3 (ipykernel)",
   "language": "python",
   "name": "python3"
  },
  "language_info": {
   "codemirror_mode": {
    "name": "ipython",
    "version": 3
   },
   "file_extension": ".py",
   "mimetype": "text/x-python",
   "name": "python",
   "nbconvert_exporter": "python",
   "pygments_lexer": "ipython3",
   "version": "3.10.9"
  }
 },
 "nbformat": 4,
 "nbformat_minor": 5
}
