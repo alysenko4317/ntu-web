{
 "cells": [
  {
   "cell_type": "code",
   "execution_count": 4,
   "id": "3ede3b9f",
   "metadata": {},
   "outputs": [
    {
     "name": "stdout",
     "output_type": "stream",
     "text": [
      "<h1>Hello!</h1><br>\r\n",
      "<h2><font color=red>Java is the best!</font></h2>\r\n",
      "\n"
     ]
    }
   ],
   "source": [
    "import urllib3\n",
    "\n",
    "url = 'http://localhost:8085/srvapp_war/hello'\n",
    "\n",
    "values = {\n",
    "    'argument1' : 'valuel',\n",
    "    'argument2' : 'value2'\n",
    "}\n",
    "\n",
    "headers = {\n",
    "    'User-Agent' : 'python urllib3'\n",
    "}\n",
    "\n",
    "http = urllib3.PoolManager()\n",
    "\n",
    "response = http.request('GET', url, fields=values, headers=headers)\n",
    "\n",
    "result = response.data.decode('utf-8')\n",
    "\n",
    "print(result)"
   ]
  },
  {
   "cell_type": "code",
   "execution_count": null,
   "id": "04b10e89",
   "metadata": {},
   "outputs": [],
   "source": []
  }
 ],
 "metadata": {
  "kernelspec": {
   "display_name": "Python 3 (ipykernel)",
   "language": "python",
   "name": "python3"
  },
  "language_info": {
   "codemirror_mode": {
    "name": "ipython",
    "version": 3
   },
   "file_extension": ".py",
   "mimetype": "text/x-python",
   "name": "python",
   "nbconvert_exporter": "python",
   "pygments_lexer": "ipython3",
   "version": "3.10.9"
  }
 },
 "nbformat": 4,
 "nbformat_minor": 5
}
